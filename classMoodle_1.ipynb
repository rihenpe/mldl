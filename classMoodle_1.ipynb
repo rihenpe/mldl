{
  "nbformat": 4,
  "nbformat_minor": 0,
  "metadata": {
    "colab": {
      "provenance": [],
      "include_colab_link": true
    },
    "kernelspec": {
      "name": "python3",
      "display_name": "Python 3"
    },
    "language_info": {
      "name": "python"
    }
  },
  "cells": [
    {
      "cell_type": "markdown",
      "metadata": {
        "id": "view-in-github",
        "colab_type": "text"
      },
      "source": [
        "<a href=\"https://colab.research.google.com/github/rihenpe/mldl/blob/main/classMoodle_1.ipynb\" target=\"_parent\"><img src=\"https://colab.research.google.com/assets/colab-badge.svg\" alt=\"Open In Colab\"/></a>"
      ]
    },
    {
      "cell_type": "markdown",
      "metadata": {
        "id": "PqvsfaSYWiWx"
      },
      "source": [
        "# **Classificação**"
      ]
    },
    {
      "cell_type": "markdown",
      "metadata": {
        "id": "aDJ9zKvEb59H"
      },
      "source": [
        "## **Pre-Processamento**"
      ]
    },
    {
      "cell_type": "code",
      "metadata": {
        "colab": {
          "base_uri": "https://localhost:8080/",
          "height": 270
        },
        "id": "s7j3vRdOWX4m",
        "outputId": "f1d75f15-222c-45b7-b79b-b0760e26f2d3"
      },
      "source": [
        "import pandas as pd\n",
        "dataset = pd.read_csv('loadTest-4.csv', sep=\";\", decimal=\",\")\n",
        "dataset.head()"
      ],
      "execution_count": null,
      "outputs": [
        {
          "output_type": "execute_result",
          "data": {
            "text/plain": [
              "   sexo  cargo  estado  regiao  identificacaoCurso  anoCurso  seqAnoCurso  \\\n",
              "0     1      4       7       3                  48      2022            1   \n",
              "1     1      4       7       3                  48      2022            1   \n",
              "2     1      4      20       2                  48      2022            1   \n",
              "3     1      4       6       2                  48      2022            1   \n",
              "4     2      4      17       2                  48      2022            1   \n",
              "\n",
              "   categoriaCurso  notaFinal  idadeAluno  anosExercicio situacaoAluno  \n",
              "0               4      100.0        46.0           19.0      APROVADO  \n",
              "1               4       95.0        43.0           19.0      APROVADO  \n",
              "2               4       89.0        38.0            8.0      APROVADO  \n",
              "3               4       96.0        46.0           20.0      APROVADO  \n",
              "4               4        0.0        42.0           15.0     REPROVADO  "
            ],
            "text/html": [
              "\n",
              "  <div id=\"df-abba6f83-b0d1-4cd8-8bf5-40a2362e9504\">\n",
              "    <div class=\"colab-df-container\">\n",
              "      <div>\n",
              "<style scoped>\n",
              "    .dataframe tbody tr th:only-of-type {\n",
              "        vertical-align: middle;\n",
              "    }\n",
              "\n",
              "    .dataframe tbody tr th {\n",
              "        vertical-align: top;\n",
              "    }\n",
              "\n",
              "    .dataframe thead th {\n",
              "        text-align: right;\n",
              "    }\n",
              "</style>\n",
              "<table border=\"1\" class=\"dataframe\">\n",
              "  <thead>\n",
              "    <tr style=\"text-align: right;\">\n",
              "      <th></th>\n",
              "      <th>sexo</th>\n",
              "      <th>cargo</th>\n",
              "      <th>estado</th>\n",
              "      <th>regiao</th>\n",
              "      <th>identificacaoCurso</th>\n",
              "      <th>anoCurso</th>\n",
              "      <th>seqAnoCurso</th>\n",
              "      <th>categoriaCurso</th>\n",
              "      <th>notaFinal</th>\n",
              "      <th>idadeAluno</th>\n",
              "      <th>anosExercicio</th>\n",
              "      <th>situacaoAluno</th>\n",
              "    </tr>\n",
              "  </thead>\n",
              "  <tbody>\n",
              "    <tr>\n",
              "      <th>0</th>\n",
              "      <td>1</td>\n",
              "      <td>4</td>\n",
              "      <td>7</td>\n",
              "      <td>3</td>\n",
              "      <td>48</td>\n",
              "      <td>2022</td>\n",
              "      <td>1</td>\n",
              "      <td>4</td>\n",
              "      <td>100.0</td>\n",
              "      <td>46.0</td>\n",
              "      <td>19.0</td>\n",
              "      <td>APROVADO</td>\n",
              "    </tr>\n",
              "    <tr>\n",
              "      <th>1</th>\n",
              "      <td>1</td>\n",
              "      <td>4</td>\n",
              "      <td>7</td>\n",
              "      <td>3</td>\n",
              "      <td>48</td>\n",
              "      <td>2022</td>\n",
              "      <td>1</td>\n",
              "      <td>4</td>\n",
              "      <td>95.0</td>\n",
              "      <td>43.0</td>\n",
              "      <td>19.0</td>\n",
              "      <td>APROVADO</td>\n",
              "    </tr>\n",
              "    <tr>\n",
              "      <th>2</th>\n",
              "      <td>1</td>\n",
              "      <td>4</td>\n",
              "      <td>20</td>\n",
              "      <td>2</td>\n",
              "      <td>48</td>\n",
              "      <td>2022</td>\n",
              "      <td>1</td>\n",
              "      <td>4</td>\n",
              "      <td>89.0</td>\n",
              "      <td>38.0</td>\n",
              "      <td>8.0</td>\n",
              "      <td>APROVADO</td>\n",
              "    </tr>\n",
              "    <tr>\n",
              "      <th>3</th>\n",
              "      <td>1</td>\n",
              "      <td>4</td>\n",
              "      <td>6</td>\n",
              "      <td>2</td>\n",
              "      <td>48</td>\n",
              "      <td>2022</td>\n",
              "      <td>1</td>\n",
              "      <td>4</td>\n",
              "      <td>96.0</td>\n",
              "      <td>46.0</td>\n",
              "      <td>20.0</td>\n",
              "      <td>APROVADO</td>\n",
              "    </tr>\n",
              "    <tr>\n",
              "      <th>4</th>\n",
              "      <td>2</td>\n",
              "      <td>4</td>\n",
              "      <td>17</td>\n",
              "      <td>2</td>\n",
              "      <td>48</td>\n",
              "      <td>2022</td>\n",
              "      <td>1</td>\n",
              "      <td>4</td>\n",
              "      <td>0.0</td>\n",
              "      <td>42.0</td>\n",
              "      <td>15.0</td>\n",
              "      <td>REPROVADO</td>\n",
              "    </tr>\n",
              "  </tbody>\n",
              "</table>\n",
              "</div>\n",
              "      <button class=\"colab-df-convert\" onclick=\"convertToInteractive('df-abba6f83-b0d1-4cd8-8bf5-40a2362e9504')\"\n",
              "              title=\"Convert this dataframe to an interactive table.\"\n",
              "              style=\"display:none;\">\n",
              "        \n",
              "  <svg xmlns=\"http://www.w3.org/2000/svg\" height=\"24px\"viewBox=\"0 0 24 24\"\n",
              "       width=\"24px\">\n",
              "    <path d=\"M0 0h24v24H0V0z\" fill=\"none\"/>\n",
              "    <path d=\"M18.56 5.44l.94 2.06.94-2.06 2.06-.94-2.06-.94-.94-2.06-.94 2.06-2.06.94zm-11 1L8.5 8.5l.94-2.06 2.06-.94-2.06-.94L8.5 2.5l-.94 2.06-2.06.94zm10 10l.94 2.06.94-2.06 2.06-.94-2.06-.94-.94-2.06-.94 2.06-2.06.94z\"/><path d=\"M17.41 7.96l-1.37-1.37c-.4-.4-.92-.59-1.43-.59-.52 0-1.04.2-1.43.59L10.3 9.45l-7.72 7.72c-.78.78-.78 2.05 0 2.83L4 21.41c.39.39.9.59 1.41.59.51 0 1.02-.2 1.41-.59l7.78-7.78 2.81-2.81c.8-.78.8-2.07 0-2.86zM5.41 20L4 18.59l7.72-7.72 1.47 1.35L5.41 20z\"/>\n",
              "  </svg>\n",
              "      </button>\n",
              "      \n",
              "  <style>\n",
              "    .colab-df-container {\n",
              "      display:flex;\n",
              "      flex-wrap:wrap;\n",
              "      gap: 12px;\n",
              "    }\n",
              "\n",
              "    .colab-df-convert {\n",
              "      background-color: #E8F0FE;\n",
              "      border: none;\n",
              "      border-radius: 50%;\n",
              "      cursor: pointer;\n",
              "      display: none;\n",
              "      fill: #1967D2;\n",
              "      height: 32px;\n",
              "      padding: 0 0 0 0;\n",
              "      width: 32px;\n",
              "    }\n",
              "\n",
              "    .colab-df-convert:hover {\n",
              "      background-color: #E2EBFA;\n",
              "      box-shadow: 0px 1px 2px rgba(60, 64, 67, 0.3), 0px 1px 3px 1px rgba(60, 64, 67, 0.15);\n",
              "      fill: #174EA6;\n",
              "    }\n",
              "\n",
              "    [theme=dark] .colab-df-convert {\n",
              "      background-color: #3B4455;\n",
              "      fill: #D2E3FC;\n",
              "    }\n",
              "\n",
              "    [theme=dark] .colab-df-convert:hover {\n",
              "      background-color: #434B5C;\n",
              "      box-shadow: 0px 1px 3px 1px rgba(0, 0, 0, 0.15);\n",
              "      filter: drop-shadow(0px 1px 2px rgba(0, 0, 0, 0.3));\n",
              "      fill: #FFFFFF;\n",
              "    }\n",
              "  </style>\n",
              "\n",
              "      <script>\n",
              "        const buttonEl =\n",
              "          document.querySelector('#df-abba6f83-b0d1-4cd8-8bf5-40a2362e9504 button.colab-df-convert');\n",
              "        buttonEl.style.display =\n",
              "          google.colab.kernel.accessAllowed ? 'block' : 'none';\n",
              "\n",
              "        async function convertToInteractive(key) {\n",
              "          const element = document.querySelector('#df-abba6f83-b0d1-4cd8-8bf5-40a2362e9504');\n",
              "          const dataTable =\n",
              "            await google.colab.kernel.invokeFunction('convertToInteractive',\n",
              "                                                     [key], {});\n",
              "          if (!dataTable) return;\n",
              "\n",
              "          const docLinkHtml = 'Like what you see? Visit the ' +\n",
              "            '<a target=\"_blank\" href=https://colab.research.google.com/notebooks/data_table.ipynb>data table notebook</a>'\n",
              "            + ' to learn more about interactive tables.';\n",
              "          element.innerHTML = '';\n",
              "          dataTable['output_type'] = 'display_data';\n",
              "          await google.colab.output.renderOutput(dataTable, element);\n",
              "          const docLink = document.createElement('div');\n",
              "          docLink.innerHTML = docLinkHtml;\n",
              "          element.appendChild(docLink);\n",
              "        }\n",
              "      </script>\n",
              "    </div>\n",
              "  </div>\n",
              "  "
            ]
          },
          "metadata": {},
          "execution_count": 2
        }
      ]
    },
    {
      "cell_type": "code",
      "source": [
        "# from google.colab import drive\n",
        "# drive.mount('https://drive.google.com/drive/folders/15xbm-vIkEhI5Frzu64nkJuK5UiRliyAA?usp=sharing')"
      ],
      "metadata": {
        "id": "xHDlNZ_u2RN2"
      },
      "execution_count": null,
      "outputs": []
    },
    {
      "cell_type": "code",
      "source": [
        "# Converte dados categoricos em numéricos\n",
        "\n",
        "dataset = pd.get_dummies(dataset,drop_first=True)"
      ],
      "metadata": {
        "id": "4t-mhJghXmaA"
      },
      "execution_count": null,
      "outputs": []
    },
    {
      "cell_type": "code",
      "source": [
        "dataset.head()"
      ],
      "metadata": {
        "colab": {
          "base_uri": "https://localhost:8080/",
          "height": 270
        },
        "id": "f4OwGL-Saoqn",
        "outputId": "3584f447-afd3-4d39-fba4-f661e9b856c6"
      },
      "execution_count": null,
      "outputs": [
        {
          "output_type": "execute_result",
          "data": {
            "text/plain": [
              "   sexo  cargo  estado  regiao  identificacaoCurso  anoCurso  seqAnoCurso  \\\n",
              "0     1      4       7       3                  48      2022            1   \n",
              "1     1      4       7       3                  48      2022            1   \n",
              "2     1      4      20       2                  48      2022            1   \n",
              "3     1      4       6       2                  48      2022            1   \n",
              "4     2      4      17       2                  48      2022            1   \n",
              "\n",
              "   categoriaCurso  notaFinal  idadeAluno  anosExercicio  \\\n",
              "0               4      100.0        46.0           19.0   \n",
              "1               4       95.0        43.0           19.0   \n",
              "2               4       89.0        38.0            8.0   \n",
              "3               4       96.0        46.0           20.0   \n",
              "4               4        0.0        42.0           15.0   \n",
              "\n",
              "   situacaoAluno_REPROVADO  \n",
              "0                        0  \n",
              "1                        0  \n",
              "2                        0  \n",
              "3                        0  \n",
              "4                        1  "
            ],
            "text/html": [
              "\n",
              "  <div id=\"df-1bff6673-bde1-4ebe-bb72-f0e02ad27d84\">\n",
              "    <div class=\"colab-df-container\">\n",
              "      <div>\n",
              "<style scoped>\n",
              "    .dataframe tbody tr th:only-of-type {\n",
              "        vertical-align: middle;\n",
              "    }\n",
              "\n",
              "    .dataframe tbody tr th {\n",
              "        vertical-align: top;\n",
              "    }\n",
              "\n",
              "    .dataframe thead th {\n",
              "        text-align: right;\n",
              "    }\n",
              "</style>\n",
              "<table border=\"1\" class=\"dataframe\">\n",
              "  <thead>\n",
              "    <tr style=\"text-align: right;\">\n",
              "      <th></th>\n",
              "      <th>sexo</th>\n",
              "      <th>cargo</th>\n",
              "      <th>estado</th>\n",
              "      <th>regiao</th>\n",
              "      <th>identificacaoCurso</th>\n",
              "      <th>anoCurso</th>\n",
              "      <th>seqAnoCurso</th>\n",
              "      <th>categoriaCurso</th>\n",
              "      <th>notaFinal</th>\n",
              "      <th>idadeAluno</th>\n",
              "      <th>anosExercicio</th>\n",
              "      <th>situacaoAluno_REPROVADO</th>\n",
              "    </tr>\n",
              "  </thead>\n",
              "  <tbody>\n",
              "    <tr>\n",
              "      <th>0</th>\n",
              "      <td>1</td>\n",
              "      <td>4</td>\n",
              "      <td>7</td>\n",
              "      <td>3</td>\n",
              "      <td>48</td>\n",
              "      <td>2022</td>\n",
              "      <td>1</td>\n",
              "      <td>4</td>\n",
              "      <td>100.0</td>\n",
              "      <td>46.0</td>\n",
              "      <td>19.0</td>\n",
              "      <td>0</td>\n",
              "    </tr>\n",
              "    <tr>\n",
              "      <th>1</th>\n",
              "      <td>1</td>\n",
              "      <td>4</td>\n",
              "      <td>7</td>\n",
              "      <td>3</td>\n",
              "      <td>48</td>\n",
              "      <td>2022</td>\n",
              "      <td>1</td>\n",
              "      <td>4</td>\n",
              "      <td>95.0</td>\n",
              "      <td>43.0</td>\n",
              "      <td>19.0</td>\n",
              "      <td>0</td>\n",
              "    </tr>\n",
              "    <tr>\n",
              "      <th>2</th>\n",
              "      <td>1</td>\n",
              "      <td>4</td>\n",
              "      <td>20</td>\n",
              "      <td>2</td>\n",
              "      <td>48</td>\n",
              "      <td>2022</td>\n",
              "      <td>1</td>\n",
              "      <td>4</td>\n",
              "      <td>89.0</td>\n",
              "      <td>38.0</td>\n",
              "      <td>8.0</td>\n",
              "      <td>0</td>\n",
              "    </tr>\n",
              "    <tr>\n",
              "      <th>3</th>\n",
              "      <td>1</td>\n",
              "      <td>4</td>\n",
              "      <td>6</td>\n",
              "      <td>2</td>\n",
              "      <td>48</td>\n",
              "      <td>2022</td>\n",
              "      <td>1</td>\n",
              "      <td>4</td>\n",
              "      <td>96.0</td>\n",
              "      <td>46.0</td>\n",
              "      <td>20.0</td>\n",
              "      <td>0</td>\n",
              "    </tr>\n",
              "    <tr>\n",
              "      <th>4</th>\n",
              "      <td>2</td>\n",
              "      <td>4</td>\n",
              "      <td>17</td>\n",
              "      <td>2</td>\n",
              "      <td>48</td>\n",
              "      <td>2022</td>\n",
              "      <td>1</td>\n",
              "      <td>4</td>\n",
              "      <td>0.0</td>\n",
              "      <td>42.0</td>\n",
              "      <td>15.0</td>\n",
              "      <td>1</td>\n",
              "    </tr>\n",
              "  </tbody>\n",
              "</table>\n",
              "</div>\n",
              "      <button class=\"colab-df-convert\" onclick=\"convertToInteractive('df-1bff6673-bde1-4ebe-bb72-f0e02ad27d84')\"\n",
              "              title=\"Convert this dataframe to an interactive table.\"\n",
              "              style=\"display:none;\">\n",
              "        \n",
              "  <svg xmlns=\"http://www.w3.org/2000/svg\" height=\"24px\"viewBox=\"0 0 24 24\"\n",
              "       width=\"24px\">\n",
              "    <path d=\"M0 0h24v24H0V0z\" fill=\"none\"/>\n",
              "    <path d=\"M18.56 5.44l.94 2.06.94-2.06 2.06-.94-2.06-.94-.94-2.06-.94 2.06-2.06.94zm-11 1L8.5 8.5l.94-2.06 2.06-.94-2.06-.94L8.5 2.5l-.94 2.06-2.06.94zm10 10l.94 2.06.94-2.06 2.06-.94-2.06-.94-.94-2.06-.94 2.06-2.06.94z\"/><path d=\"M17.41 7.96l-1.37-1.37c-.4-.4-.92-.59-1.43-.59-.52 0-1.04.2-1.43.59L10.3 9.45l-7.72 7.72c-.78.78-.78 2.05 0 2.83L4 21.41c.39.39.9.59 1.41.59.51 0 1.02-.2 1.41-.59l7.78-7.78 2.81-2.81c.8-.78.8-2.07 0-2.86zM5.41 20L4 18.59l7.72-7.72 1.47 1.35L5.41 20z\"/>\n",
              "  </svg>\n",
              "      </button>\n",
              "      \n",
              "  <style>\n",
              "    .colab-df-container {\n",
              "      display:flex;\n",
              "      flex-wrap:wrap;\n",
              "      gap: 12px;\n",
              "    }\n",
              "\n",
              "    .colab-df-convert {\n",
              "      background-color: #E8F0FE;\n",
              "      border: none;\n",
              "      border-radius: 50%;\n",
              "      cursor: pointer;\n",
              "      display: none;\n",
              "      fill: #1967D2;\n",
              "      height: 32px;\n",
              "      padding: 0 0 0 0;\n",
              "      width: 32px;\n",
              "    }\n",
              "\n",
              "    .colab-df-convert:hover {\n",
              "      background-color: #E2EBFA;\n",
              "      box-shadow: 0px 1px 2px rgba(60, 64, 67, 0.3), 0px 1px 3px 1px rgba(60, 64, 67, 0.15);\n",
              "      fill: #174EA6;\n",
              "    }\n",
              "\n",
              "    [theme=dark] .colab-df-convert {\n",
              "      background-color: #3B4455;\n",
              "      fill: #D2E3FC;\n",
              "    }\n",
              "\n",
              "    [theme=dark] .colab-df-convert:hover {\n",
              "      background-color: #434B5C;\n",
              "      box-shadow: 0px 1px 3px 1px rgba(0, 0, 0, 0.15);\n",
              "      filter: drop-shadow(0px 1px 2px rgba(0, 0, 0, 0.3));\n",
              "      fill: #FFFFFF;\n",
              "    }\n",
              "  </style>\n",
              "\n",
              "      <script>\n",
              "        const buttonEl =\n",
              "          document.querySelector('#df-1bff6673-bde1-4ebe-bb72-f0e02ad27d84 button.colab-df-convert');\n",
              "        buttonEl.style.display =\n",
              "          google.colab.kernel.accessAllowed ? 'block' : 'none';\n",
              "\n",
              "        async function convertToInteractive(key) {\n",
              "          const element = document.querySelector('#df-1bff6673-bde1-4ebe-bb72-f0e02ad27d84');\n",
              "          const dataTable =\n",
              "            await google.colab.kernel.invokeFunction('convertToInteractive',\n",
              "                                                     [key], {});\n",
              "          if (!dataTable) return;\n",
              "\n",
              "          const docLinkHtml = 'Like what you see? Visit the ' +\n",
              "            '<a target=\"_blank\" href=https://colab.research.google.com/notebooks/data_table.ipynb>data table notebook</a>'\n",
              "            + ' to learn more about interactive tables.';\n",
              "          element.innerHTML = '';\n",
              "          dataTable['output_type'] = 'display_data';\n",
              "          await google.colab.output.renderOutput(dataTable, element);\n",
              "          const docLink = document.createElement('div');\n",
              "          docLink.innerHTML = docLinkHtml;\n",
              "          element.appendChild(docLink);\n",
              "        }\n",
              "      </script>\n",
              "    </div>\n",
              "  </div>\n",
              "  "
            ]
          },
          "metadata": {},
          "execution_count": 4
        }
      ]
    },
    {
      "cell_type": "code",
      "source": [
        "dataset.columns"
      ],
      "metadata": {
        "colab": {
          "base_uri": "https://localhost:8080/"
        },
        "id": "fcKK3pbPNw2E",
        "outputId": "cbdeed2c-6a43-442e-f88c-b9b363ec7d7a"
      },
      "execution_count": null,
      "outputs": [
        {
          "output_type": "execute_result",
          "data": {
            "text/plain": [
              "Index(['sexo', 'cargo', 'estado', 'regiao', 'identificacaoCurso', 'anoCurso',\n",
              "       'seqAnoCurso', 'categoriaCurso', 'notaFinal', 'idadeAluno',\n",
              "       'anosExercicio', 'situacaoAluno_REPROVADO'],\n",
              "      dtype='object')"
            ]
          },
          "metadata": {},
          "execution_count": 5
        }
      ]
    },
    {
      "cell_type": "code",
      "source": [
        "# retirar NaN\n",
        "\n",
        "dataset = dataset[dataset[\"sexo\"].notna()]\n",
        "dataset = dataset[dataset[\"cargo\"].notna()]\n",
        "dataset = dataset[dataset[\"notaFinal\"].notna()]\n"
      ],
      "metadata": {
        "id": "lQcl0kWuVNpR"
      },
      "execution_count": null,
      "outputs": []
    },
    {
      "cell_type": "code",
      "source": [
        "dataset = dataset[dataset[\"idadeAluno\"].notna()]\n",
        "dataset = dataset[dataset[\"anosExercicio\"].notna()]\n"
      ],
      "metadata": {
        "id": "X8PrYWYlWfIT"
      },
      "execution_count": null,
      "outputs": []
    },
    {
      "cell_type": "code",
      "source": [
        "X = dataset.drop('situacaoAluno_REPROVADO',axis=1)"
      ],
      "metadata": {
        "id": "NJ753v8Zg4aU"
      },
      "execution_count": null,
      "outputs": []
    },
    {
      "cell_type": "code",
      "source": [
        "X"
      ],
      "metadata": {
        "colab": {
          "base_uri": "https://localhost:8080/",
          "height": 488
        },
        "id": "szJ6zK9XhvPy",
        "outputId": "a607aaf7-0475-4c86-8da0-3592945699d8"
      },
      "execution_count": null,
      "outputs": [
        {
          "output_type": "execute_result",
          "data": {
            "text/plain": [
              "       sexo  cargo  estado  regiao  identificacaoCurso  anoCurso  seqAnoCurso  \\\n",
              "0         1      4       7       3                  48      2022            1   \n",
              "1         1      4       7       3                  48      2022            1   \n",
              "2         1      4      20       2                  48      2022            1   \n",
              "3         1      4       6       2                  48      2022            1   \n",
              "4         2      4      17       2                  48      2022            1   \n",
              "...     ...    ...     ...     ...                 ...       ...          ...   \n",
              "48845     1      6      11       4                  66      2021            4   \n",
              "48846     1      1       7       3                  66      2021            4   \n",
              "48847     1      1       7       3                  66      2021            4   \n",
              "48848     1      2       7       3                  66      2021            4   \n",
              "48849     1      2       7       3                  66      2021            4   \n",
              "\n",
              "       categoriaCurso  notaFinal  idadeAluno  anosExercicio  \n",
              "0                   4      100.0        46.0           19.0  \n",
              "1                   4       95.0        43.0           19.0  \n",
              "2                   4       89.0        38.0            8.0  \n",
              "3                   4       96.0        46.0           20.0  \n",
              "4                   4        0.0        42.0           15.0  \n",
              "...               ...        ...         ...            ...  \n",
              "48845              70       86.1        44.0           13.0  \n",
              "48846              70       48.2        39.0           16.0  \n",
              "48847              70        0.0        49.0           27.0  \n",
              "48848              70       72.3        44.0           13.0  \n",
              "48849              70       77.8        49.0           17.0  \n",
              "\n",
              "[48850 rows x 11 columns]"
            ],
            "text/html": [
              "\n",
              "  <div id=\"df-cfc8af3e-e2c4-40c7-a32c-a1bb1315d35c\">\n",
              "    <div class=\"colab-df-container\">\n",
              "      <div>\n",
              "<style scoped>\n",
              "    .dataframe tbody tr th:only-of-type {\n",
              "        vertical-align: middle;\n",
              "    }\n",
              "\n",
              "    .dataframe tbody tr th {\n",
              "        vertical-align: top;\n",
              "    }\n",
              "\n",
              "    .dataframe thead th {\n",
              "        text-align: right;\n",
              "    }\n",
              "</style>\n",
              "<table border=\"1\" class=\"dataframe\">\n",
              "  <thead>\n",
              "    <tr style=\"text-align: right;\">\n",
              "      <th></th>\n",
              "      <th>sexo</th>\n",
              "      <th>cargo</th>\n",
              "      <th>estado</th>\n",
              "      <th>regiao</th>\n",
              "      <th>identificacaoCurso</th>\n",
              "      <th>anoCurso</th>\n",
              "      <th>seqAnoCurso</th>\n",
              "      <th>categoriaCurso</th>\n",
              "      <th>notaFinal</th>\n",
              "      <th>idadeAluno</th>\n",
              "      <th>anosExercicio</th>\n",
              "    </tr>\n",
              "  </thead>\n",
              "  <tbody>\n",
              "    <tr>\n",
              "      <th>0</th>\n",
              "      <td>1</td>\n",
              "      <td>4</td>\n",
              "      <td>7</td>\n",
              "      <td>3</td>\n",
              "      <td>48</td>\n",
              "      <td>2022</td>\n",
              "      <td>1</td>\n",
              "      <td>4</td>\n",
              "      <td>100.0</td>\n",
              "      <td>46.0</td>\n",
              "      <td>19.0</td>\n",
              "    </tr>\n",
              "    <tr>\n",
              "      <th>1</th>\n",
              "      <td>1</td>\n",
              "      <td>4</td>\n",
              "      <td>7</td>\n",
              "      <td>3</td>\n",
              "      <td>48</td>\n",
              "      <td>2022</td>\n",
              "      <td>1</td>\n",
              "      <td>4</td>\n",
              "      <td>95.0</td>\n",
              "      <td>43.0</td>\n",
              "      <td>19.0</td>\n",
              "    </tr>\n",
              "    <tr>\n",
              "      <th>2</th>\n",
              "      <td>1</td>\n",
              "      <td>4</td>\n",
              "      <td>20</td>\n",
              "      <td>2</td>\n",
              "      <td>48</td>\n",
              "      <td>2022</td>\n",
              "      <td>1</td>\n",
              "      <td>4</td>\n",
              "      <td>89.0</td>\n",
              "      <td>38.0</td>\n",
              "      <td>8.0</td>\n",
              "    </tr>\n",
              "    <tr>\n",
              "      <th>3</th>\n",
              "      <td>1</td>\n",
              "      <td>4</td>\n",
              "      <td>6</td>\n",
              "      <td>2</td>\n",
              "      <td>48</td>\n",
              "      <td>2022</td>\n",
              "      <td>1</td>\n",
              "      <td>4</td>\n",
              "      <td>96.0</td>\n",
              "      <td>46.0</td>\n",
              "      <td>20.0</td>\n",
              "    </tr>\n",
              "    <tr>\n",
              "      <th>4</th>\n",
              "      <td>2</td>\n",
              "      <td>4</td>\n",
              "      <td>17</td>\n",
              "      <td>2</td>\n",
              "      <td>48</td>\n",
              "      <td>2022</td>\n",
              "      <td>1</td>\n",
              "      <td>4</td>\n",
              "      <td>0.0</td>\n",
              "      <td>42.0</td>\n",
              "      <td>15.0</td>\n",
              "    </tr>\n",
              "    <tr>\n",
              "      <th>...</th>\n",
              "      <td>...</td>\n",
              "      <td>...</td>\n",
              "      <td>...</td>\n",
              "      <td>...</td>\n",
              "      <td>...</td>\n",
              "      <td>...</td>\n",
              "      <td>...</td>\n",
              "      <td>...</td>\n",
              "      <td>...</td>\n",
              "      <td>...</td>\n",
              "      <td>...</td>\n",
              "    </tr>\n",
              "    <tr>\n",
              "      <th>48845</th>\n",
              "      <td>1</td>\n",
              "      <td>6</td>\n",
              "      <td>11</td>\n",
              "      <td>4</td>\n",
              "      <td>66</td>\n",
              "      <td>2021</td>\n",
              "      <td>4</td>\n",
              "      <td>70</td>\n",
              "      <td>86.1</td>\n",
              "      <td>44.0</td>\n",
              "      <td>13.0</td>\n",
              "    </tr>\n",
              "    <tr>\n",
              "      <th>48846</th>\n",
              "      <td>1</td>\n",
              "      <td>1</td>\n",
              "      <td>7</td>\n",
              "      <td>3</td>\n",
              "      <td>66</td>\n",
              "      <td>2021</td>\n",
              "      <td>4</td>\n",
              "      <td>70</td>\n",
              "      <td>48.2</td>\n",
              "      <td>39.0</td>\n",
              "      <td>16.0</td>\n",
              "    </tr>\n",
              "    <tr>\n",
              "      <th>48847</th>\n",
              "      <td>1</td>\n",
              "      <td>1</td>\n",
              "      <td>7</td>\n",
              "      <td>3</td>\n",
              "      <td>66</td>\n",
              "      <td>2021</td>\n",
              "      <td>4</td>\n",
              "      <td>70</td>\n",
              "      <td>0.0</td>\n",
              "      <td>49.0</td>\n",
              "      <td>27.0</td>\n",
              "    </tr>\n",
              "    <tr>\n",
              "      <th>48848</th>\n",
              "      <td>1</td>\n",
              "      <td>2</td>\n",
              "      <td>7</td>\n",
              "      <td>3</td>\n",
              "      <td>66</td>\n",
              "      <td>2021</td>\n",
              "      <td>4</td>\n",
              "      <td>70</td>\n",
              "      <td>72.3</td>\n",
              "      <td>44.0</td>\n",
              "      <td>13.0</td>\n",
              "    </tr>\n",
              "    <tr>\n",
              "      <th>48849</th>\n",
              "      <td>1</td>\n",
              "      <td>2</td>\n",
              "      <td>7</td>\n",
              "      <td>3</td>\n",
              "      <td>66</td>\n",
              "      <td>2021</td>\n",
              "      <td>4</td>\n",
              "      <td>70</td>\n",
              "      <td>77.8</td>\n",
              "      <td>49.0</td>\n",
              "      <td>17.0</td>\n",
              "    </tr>\n",
              "  </tbody>\n",
              "</table>\n",
              "<p>48850 rows × 11 columns</p>\n",
              "</div>\n",
              "      <button class=\"colab-df-convert\" onclick=\"convertToInteractive('df-cfc8af3e-e2c4-40c7-a32c-a1bb1315d35c')\"\n",
              "              title=\"Convert this dataframe to an interactive table.\"\n",
              "              style=\"display:none;\">\n",
              "        \n",
              "  <svg xmlns=\"http://www.w3.org/2000/svg\" height=\"24px\"viewBox=\"0 0 24 24\"\n",
              "       width=\"24px\">\n",
              "    <path d=\"M0 0h24v24H0V0z\" fill=\"none\"/>\n",
              "    <path d=\"M18.56 5.44l.94 2.06.94-2.06 2.06-.94-2.06-.94-.94-2.06-.94 2.06-2.06.94zm-11 1L8.5 8.5l.94-2.06 2.06-.94-2.06-.94L8.5 2.5l-.94 2.06-2.06.94zm10 10l.94 2.06.94-2.06 2.06-.94-2.06-.94-.94-2.06-.94 2.06-2.06.94z\"/><path d=\"M17.41 7.96l-1.37-1.37c-.4-.4-.92-.59-1.43-.59-.52 0-1.04.2-1.43.59L10.3 9.45l-7.72 7.72c-.78.78-.78 2.05 0 2.83L4 21.41c.39.39.9.59 1.41.59.51 0 1.02-.2 1.41-.59l7.78-7.78 2.81-2.81c.8-.78.8-2.07 0-2.86zM5.41 20L4 18.59l7.72-7.72 1.47 1.35L5.41 20z\"/>\n",
              "  </svg>\n",
              "      </button>\n",
              "      \n",
              "  <style>\n",
              "    .colab-df-container {\n",
              "      display:flex;\n",
              "      flex-wrap:wrap;\n",
              "      gap: 12px;\n",
              "    }\n",
              "\n",
              "    .colab-df-convert {\n",
              "      background-color: #E8F0FE;\n",
              "      border: none;\n",
              "      border-radius: 50%;\n",
              "      cursor: pointer;\n",
              "      display: none;\n",
              "      fill: #1967D2;\n",
              "      height: 32px;\n",
              "      padding: 0 0 0 0;\n",
              "      width: 32px;\n",
              "    }\n",
              "\n",
              "    .colab-df-convert:hover {\n",
              "      background-color: #E2EBFA;\n",
              "      box-shadow: 0px 1px 2px rgba(60, 64, 67, 0.3), 0px 1px 3px 1px rgba(60, 64, 67, 0.15);\n",
              "      fill: #174EA6;\n",
              "    }\n",
              "\n",
              "    [theme=dark] .colab-df-convert {\n",
              "      background-color: #3B4455;\n",
              "      fill: #D2E3FC;\n",
              "    }\n",
              "\n",
              "    [theme=dark] .colab-df-convert:hover {\n",
              "      background-color: #434B5C;\n",
              "      box-shadow: 0px 1px 3px 1px rgba(0, 0, 0, 0.15);\n",
              "      filter: drop-shadow(0px 1px 2px rgba(0, 0, 0, 0.3));\n",
              "      fill: #FFFFFF;\n",
              "    }\n",
              "  </style>\n",
              "\n",
              "      <script>\n",
              "        const buttonEl =\n",
              "          document.querySelector('#df-cfc8af3e-e2c4-40c7-a32c-a1bb1315d35c button.colab-df-convert');\n",
              "        buttonEl.style.display =\n",
              "          google.colab.kernel.accessAllowed ? 'block' : 'none';\n",
              "\n",
              "        async function convertToInteractive(key) {\n",
              "          const element = document.querySelector('#df-cfc8af3e-e2c4-40c7-a32c-a1bb1315d35c');\n",
              "          const dataTable =\n",
              "            await google.colab.kernel.invokeFunction('convertToInteractive',\n",
              "                                                     [key], {});\n",
              "          if (!dataTable) return;\n",
              "\n",
              "          const docLinkHtml = 'Like what you see? Visit the ' +\n",
              "            '<a target=\"_blank\" href=https://colab.research.google.com/notebooks/data_table.ipynb>data table notebook</a>'\n",
              "            + ' to learn more about interactive tables.';\n",
              "          element.innerHTML = '';\n",
              "          dataTable['output_type'] = 'display_data';\n",
              "          await google.colab.output.renderOutput(dataTable, element);\n",
              "          const docLink = document.createElement('div');\n",
              "          docLink.innerHTML = docLinkHtml;\n",
              "          element.appendChild(docLink);\n",
              "        }\n",
              "      </script>\n",
              "    </div>\n",
              "  </div>\n",
              "  "
            ]
          },
          "metadata": {},
          "execution_count": 7
        }
      ]
    },
    {
      "cell_type": "code",
      "source": [
        "y = dataset.situacaoAluno_REPROVADO"
      ],
      "metadata": {
        "id": "_XoCWxShhUYn"
      },
      "execution_count": null,
      "outputs": []
    },
    {
      "cell_type": "code",
      "source": [
        "y"
      ],
      "metadata": {
        "colab": {
          "base_uri": "https://localhost:8080/"
        },
        "id": "ZfFlxoDuh3s9",
        "outputId": "e3e4ff29-57de-40eb-d0ca-da6536275de0"
      },
      "execution_count": null,
      "outputs": [
        {
          "output_type": "execute_result",
          "data": {
            "text/plain": [
              "0        0\n",
              "1        0\n",
              "2        0\n",
              "3        0\n",
              "4        1\n",
              "        ..\n",
              "48845    0\n",
              "48846    1\n",
              "48847    1\n",
              "48848    0\n",
              "48849    0\n",
              "Name: situacaoAluno_REPROVADO, Length: 48850, dtype: uint8"
            ]
          },
          "metadata": {},
          "execution_count": 9
        }
      ]
    },
    {
      "cell_type": "code",
      "metadata": {
        "id": "1w6fIMg-dK9c",
        "colab": {
          "base_uri": "https://localhost:8080/",
          "height": 424
        },
        "outputId": "133a5d98-05bc-4cd4-be3c-fa8adaf8451b"
      },
      "source": [
        "# dataset = pd.get_dummies(dataset,drop_first=True)\n",
        "# X1 = dataset.iloc[:,1:3]\n",
        "# X2 = dataset.iloc[:, 4:]\n",
        "# X = pd.concat([X1,X2],axis=1)\n",
        "# X\n",
        "# y = dataset.iloc[:,3:4]\n",
        "# y"
      ],
      "execution_count": null,
      "outputs": [
        {
          "output_type": "execute_result",
          "data": {
            "text/plain": [
              "     Purchased\n",
              "0            0\n",
              "1            0\n",
              "2            0\n",
              "3            0\n",
              "4            0\n",
              "..         ...\n",
              "395          1\n",
              "396          1\n",
              "397          1\n",
              "398          0\n",
              "399          1\n",
              "\n",
              "[400 rows x 1 columns]"
            ],
            "text/html": [
              "\n",
              "  <div id=\"df-a0b0d8da-80cd-4042-9566-7c602110602b\">\n",
              "    <div class=\"colab-df-container\">\n",
              "      <div>\n",
              "<style scoped>\n",
              "    .dataframe tbody tr th:only-of-type {\n",
              "        vertical-align: middle;\n",
              "    }\n",
              "\n",
              "    .dataframe tbody tr th {\n",
              "        vertical-align: top;\n",
              "    }\n",
              "\n",
              "    .dataframe thead th {\n",
              "        text-align: right;\n",
              "    }\n",
              "</style>\n",
              "<table border=\"1\" class=\"dataframe\">\n",
              "  <thead>\n",
              "    <tr style=\"text-align: right;\">\n",
              "      <th></th>\n",
              "      <th>Purchased</th>\n",
              "    </tr>\n",
              "  </thead>\n",
              "  <tbody>\n",
              "    <tr>\n",
              "      <th>0</th>\n",
              "      <td>0</td>\n",
              "    </tr>\n",
              "    <tr>\n",
              "      <th>1</th>\n",
              "      <td>0</td>\n",
              "    </tr>\n",
              "    <tr>\n",
              "      <th>2</th>\n",
              "      <td>0</td>\n",
              "    </tr>\n",
              "    <tr>\n",
              "      <th>3</th>\n",
              "      <td>0</td>\n",
              "    </tr>\n",
              "    <tr>\n",
              "      <th>4</th>\n",
              "      <td>0</td>\n",
              "    </tr>\n",
              "    <tr>\n",
              "      <th>...</th>\n",
              "      <td>...</td>\n",
              "    </tr>\n",
              "    <tr>\n",
              "      <th>395</th>\n",
              "      <td>1</td>\n",
              "    </tr>\n",
              "    <tr>\n",
              "      <th>396</th>\n",
              "      <td>1</td>\n",
              "    </tr>\n",
              "    <tr>\n",
              "      <th>397</th>\n",
              "      <td>1</td>\n",
              "    </tr>\n",
              "    <tr>\n",
              "      <th>398</th>\n",
              "      <td>0</td>\n",
              "    </tr>\n",
              "    <tr>\n",
              "      <th>399</th>\n",
              "      <td>1</td>\n",
              "    </tr>\n",
              "  </tbody>\n",
              "</table>\n",
              "<p>400 rows × 1 columns</p>\n",
              "</div>\n",
              "      <button class=\"colab-df-convert\" onclick=\"convertToInteractive('df-a0b0d8da-80cd-4042-9566-7c602110602b')\"\n",
              "              title=\"Convert this dataframe to an interactive table.\"\n",
              "              style=\"display:none;\">\n",
              "        \n",
              "  <svg xmlns=\"http://www.w3.org/2000/svg\" height=\"24px\"viewBox=\"0 0 24 24\"\n",
              "       width=\"24px\">\n",
              "    <path d=\"M0 0h24v24H0V0z\" fill=\"none\"/>\n",
              "    <path d=\"M18.56 5.44l.94 2.06.94-2.06 2.06-.94-2.06-.94-.94-2.06-.94 2.06-2.06.94zm-11 1L8.5 8.5l.94-2.06 2.06-.94-2.06-.94L8.5 2.5l-.94 2.06-2.06.94zm10 10l.94 2.06.94-2.06 2.06-.94-2.06-.94-.94-2.06-.94 2.06-2.06.94z\"/><path d=\"M17.41 7.96l-1.37-1.37c-.4-.4-.92-.59-1.43-.59-.52 0-1.04.2-1.43.59L10.3 9.45l-7.72 7.72c-.78.78-.78 2.05 0 2.83L4 21.41c.39.39.9.59 1.41.59.51 0 1.02-.2 1.41-.59l7.78-7.78 2.81-2.81c.8-.78.8-2.07 0-2.86zM5.41 20L4 18.59l7.72-7.72 1.47 1.35L5.41 20z\"/>\n",
              "  </svg>\n",
              "      </button>\n",
              "      \n",
              "  <style>\n",
              "    .colab-df-container {\n",
              "      display:flex;\n",
              "      flex-wrap:wrap;\n",
              "      gap: 12px;\n",
              "    }\n",
              "\n",
              "    .colab-df-convert {\n",
              "      background-color: #E8F0FE;\n",
              "      border: none;\n",
              "      border-radius: 50%;\n",
              "      cursor: pointer;\n",
              "      display: none;\n",
              "      fill: #1967D2;\n",
              "      height: 32px;\n",
              "      padding: 0 0 0 0;\n",
              "      width: 32px;\n",
              "    }\n",
              "\n",
              "    .colab-df-convert:hover {\n",
              "      background-color: #E2EBFA;\n",
              "      box-shadow: 0px 1px 2px rgba(60, 64, 67, 0.3), 0px 1px 3px 1px rgba(60, 64, 67, 0.15);\n",
              "      fill: #174EA6;\n",
              "    }\n",
              "\n",
              "    [theme=dark] .colab-df-convert {\n",
              "      background-color: #3B4455;\n",
              "      fill: #D2E3FC;\n",
              "    }\n",
              "\n",
              "    [theme=dark] .colab-df-convert:hover {\n",
              "      background-color: #434B5C;\n",
              "      box-shadow: 0px 1px 3px 1px rgba(0, 0, 0, 0.15);\n",
              "      filter: drop-shadow(0px 1px 2px rgba(0, 0, 0, 0.3));\n",
              "      fill: #FFFFFF;\n",
              "    }\n",
              "  </style>\n",
              "\n",
              "      <script>\n",
              "        const buttonEl =\n",
              "          document.querySelector('#df-a0b0d8da-80cd-4042-9566-7c602110602b button.colab-df-convert');\n",
              "        buttonEl.style.display =\n",
              "          google.colab.kernel.accessAllowed ? 'block' : 'none';\n",
              "\n",
              "        async function convertToInteractive(key) {\n",
              "          const element = document.querySelector('#df-a0b0d8da-80cd-4042-9566-7c602110602b');\n",
              "          const dataTable =\n",
              "            await google.colab.kernel.invokeFunction('convertToInteractive',\n",
              "                                                     [key], {});\n",
              "          if (!dataTable) return;\n",
              "\n",
              "          const docLinkHtml = 'Like what you see? Visit the ' +\n",
              "            '<a target=\"_blank\" href=https://colab.research.google.com/notebooks/data_table.ipynb>data table notebook</a>'\n",
              "            + ' to learn more about interactive tables.';\n",
              "          element.innerHTML = '';\n",
              "          dataTable['output_type'] = 'display_data';\n",
              "          await google.colab.output.renderOutput(dataTable, element);\n",
              "          const docLink = document.createElement('div');\n",
              "          docLink.innerHTML = docLinkHtml;\n",
              "          element.appendChild(docLink);\n",
              "        }\n",
              "      </script>\n",
              "    </div>\n",
              "  </div>\n",
              "  "
            ]
          },
          "metadata": {},
          "execution_count": 3
        }
      ]
    },
    {
      "cell_type": "code",
      "metadata": {
        "id": "MroF8f3ld34S",
        "colab": {
          "base_uri": "https://localhost:8080/",
          "height": 424
        },
        "outputId": "169c3b84-2569-4c4d-9d80-b84f22611256"
      },
      "source": [
        "X"
      ],
      "execution_count": null,
      "outputs": [
        {
          "output_type": "execute_result",
          "data": {
            "text/plain": [
              "     Age  EstimatedSalary  Gender_Male\n",
              "0     19            19000            1\n",
              "1     35            20000            1\n",
              "2     26            43000            0\n",
              "3     27            57000            0\n",
              "4     19            76000            1\n",
              "..   ...              ...          ...\n",
              "395   46            41000            0\n",
              "396   51            23000            1\n",
              "397   50            20000            0\n",
              "398   36            33000            1\n",
              "399   49            36000            0\n",
              "\n",
              "[400 rows x 3 columns]"
            ],
            "text/html": [
              "\n",
              "  <div id=\"df-fa1d31a6-40e9-4fa9-8de1-48d3c1dc8722\">\n",
              "    <div class=\"colab-df-container\">\n",
              "      <div>\n",
              "<style scoped>\n",
              "    .dataframe tbody tr th:only-of-type {\n",
              "        vertical-align: middle;\n",
              "    }\n",
              "\n",
              "    .dataframe tbody tr th {\n",
              "        vertical-align: top;\n",
              "    }\n",
              "\n",
              "    .dataframe thead th {\n",
              "        text-align: right;\n",
              "    }\n",
              "</style>\n",
              "<table border=\"1\" class=\"dataframe\">\n",
              "  <thead>\n",
              "    <tr style=\"text-align: right;\">\n",
              "      <th></th>\n",
              "      <th>Age</th>\n",
              "      <th>EstimatedSalary</th>\n",
              "      <th>Gender_Male</th>\n",
              "    </tr>\n",
              "  </thead>\n",
              "  <tbody>\n",
              "    <tr>\n",
              "      <th>0</th>\n",
              "      <td>19</td>\n",
              "      <td>19000</td>\n",
              "      <td>1</td>\n",
              "    </tr>\n",
              "    <tr>\n",
              "      <th>1</th>\n",
              "      <td>35</td>\n",
              "      <td>20000</td>\n",
              "      <td>1</td>\n",
              "    </tr>\n",
              "    <tr>\n",
              "      <th>2</th>\n",
              "      <td>26</td>\n",
              "      <td>43000</td>\n",
              "      <td>0</td>\n",
              "    </tr>\n",
              "    <tr>\n",
              "      <th>3</th>\n",
              "      <td>27</td>\n",
              "      <td>57000</td>\n",
              "      <td>0</td>\n",
              "    </tr>\n",
              "    <tr>\n",
              "      <th>4</th>\n",
              "      <td>19</td>\n",
              "      <td>76000</td>\n",
              "      <td>1</td>\n",
              "    </tr>\n",
              "    <tr>\n",
              "      <th>...</th>\n",
              "      <td>...</td>\n",
              "      <td>...</td>\n",
              "      <td>...</td>\n",
              "    </tr>\n",
              "    <tr>\n",
              "      <th>395</th>\n",
              "      <td>46</td>\n",
              "      <td>41000</td>\n",
              "      <td>0</td>\n",
              "    </tr>\n",
              "    <tr>\n",
              "      <th>396</th>\n",
              "      <td>51</td>\n",
              "      <td>23000</td>\n",
              "      <td>1</td>\n",
              "    </tr>\n",
              "    <tr>\n",
              "      <th>397</th>\n",
              "      <td>50</td>\n",
              "      <td>20000</td>\n",
              "      <td>0</td>\n",
              "    </tr>\n",
              "    <tr>\n",
              "      <th>398</th>\n",
              "      <td>36</td>\n",
              "      <td>33000</td>\n",
              "      <td>1</td>\n",
              "    </tr>\n",
              "    <tr>\n",
              "      <th>399</th>\n",
              "      <td>49</td>\n",
              "      <td>36000</td>\n",
              "      <td>0</td>\n",
              "    </tr>\n",
              "  </tbody>\n",
              "</table>\n",
              "<p>400 rows × 3 columns</p>\n",
              "</div>\n",
              "      <button class=\"colab-df-convert\" onclick=\"convertToInteractive('df-fa1d31a6-40e9-4fa9-8de1-48d3c1dc8722')\"\n",
              "              title=\"Convert this dataframe to an interactive table.\"\n",
              "              style=\"display:none;\">\n",
              "        \n",
              "  <svg xmlns=\"http://www.w3.org/2000/svg\" height=\"24px\"viewBox=\"0 0 24 24\"\n",
              "       width=\"24px\">\n",
              "    <path d=\"M0 0h24v24H0V0z\" fill=\"none\"/>\n",
              "    <path d=\"M18.56 5.44l.94 2.06.94-2.06 2.06-.94-2.06-.94-.94-2.06-.94 2.06-2.06.94zm-11 1L8.5 8.5l.94-2.06 2.06-.94-2.06-.94L8.5 2.5l-.94 2.06-2.06.94zm10 10l.94 2.06.94-2.06 2.06-.94-2.06-.94-.94-2.06-.94 2.06-2.06.94z\"/><path d=\"M17.41 7.96l-1.37-1.37c-.4-.4-.92-.59-1.43-.59-.52 0-1.04.2-1.43.59L10.3 9.45l-7.72 7.72c-.78.78-.78 2.05 0 2.83L4 21.41c.39.39.9.59 1.41.59.51 0 1.02-.2 1.41-.59l7.78-7.78 2.81-2.81c.8-.78.8-2.07 0-2.86zM5.41 20L4 18.59l7.72-7.72 1.47 1.35L5.41 20z\"/>\n",
              "  </svg>\n",
              "      </button>\n",
              "      \n",
              "  <style>\n",
              "    .colab-df-container {\n",
              "      display:flex;\n",
              "      flex-wrap:wrap;\n",
              "      gap: 12px;\n",
              "    }\n",
              "\n",
              "    .colab-df-convert {\n",
              "      background-color: #E8F0FE;\n",
              "      border: none;\n",
              "      border-radius: 50%;\n",
              "      cursor: pointer;\n",
              "      display: none;\n",
              "      fill: #1967D2;\n",
              "      height: 32px;\n",
              "      padding: 0 0 0 0;\n",
              "      width: 32px;\n",
              "    }\n",
              "\n",
              "    .colab-df-convert:hover {\n",
              "      background-color: #E2EBFA;\n",
              "      box-shadow: 0px 1px 2px rgba(60, 64, 67, 0.3), 0px 1px 3px 1px rgba(60, 64, 67, 0.15);\n",
              "      fill: #174EA6;\n",
              "    }\n",
              "\n",
              "    [theme=dark] .colab-df-convert {\n",
              "      background-color: #3B4455;\n",
              "      fill: #D2E3FC;\n",
              "    }\n",
              "\n",
              "    [theme=dark] .colab-df-convert:hover {\n",
              "      background-color: #434B5C;\n",
              "      box-shadow: 0px 1px 3px 1px rgba(0, 0, 0, 0.15);\n",
              "      filter: drop-shadow(0px 1px 2px rgba(0, 0, 0, 0.3));\n",
              "      fill: #FFFFFF;\n",
              "    }\n",
              "  </style>\n",
              "\n",
              "      <script>\n",
              "        const buttonEl =\n",
              "          document.querySelector('#df-fa1d31a6-40e9-4fa9-8de1-48d3c1dc8722 button.colab-df-convert');\n",
              "        buttonEl.style.display =\n",
              "          google.colab.kernel.accessAllowed ? 'block' : 'none';\n",
              "\n",
              "        async function convertToInteractive(key) {\n",
              "          const element = document.querySelector('#df-fa1d31a6-40e9-4fa9-8de1-48d3c1dc8722');\n",
              "          const dataTable =\n",
              "            await google.colab.kernel.invokeFunction('convertToInteractive',\n",
              "                                                     [key], {});\n",
              "          if (!dataTable) return;\n",
              "\n",
              "          const docLinkHtml = 'Like what you see? Visit the ' +\n",
              "            '<a target=\"_blank\" href=https://colab.research.google.com/notebooks/data_table.ipynb>data table notebook</a>'\n",
              "            + ' to learn more about interactive tables.';\n",
              "          element.innerHTML = '';\n",
              "          dataTable['output_type'] = 'display_data';\n",
              "          await google.colab.output.renderOutput(dataTable, element);\n",
              "          const docLink = document.createElement('div');\n",
              "          docLink.innerHTML = docLinkHtml;\n",
              "          element.appendChild(docLink);\n",
              "        }\n",
              "      </script>\n",
              "    </div>\n",
              "  </div>\n",
              "  "
            ]
          },
          "metadata": {},
          "execution_count": 3
        }
      ]
    },
    {
      "cell_type": "code",
      "metadata": {
        "id": "uPBIDPjyeKWK"
      },
      "source": [
        "from sklearn.model_selection import train_test_split\n",
        "X_train, X_test, y_train, y_test = train_test_split(X.values, y.values, test_size = 0.2, random_state = 0)"
      ],
      "execution_count": null,
      "outputs": []
    },
    {
      "cell_type": "code",
      "metadata": {
        "colab": {
          "base_uri": "https://localhost:8080/"
        },
        "id": "pXStjw-leZX2",
        "outputId": "fae7df85-48f5-4cb6-c3f8-5d45e6020171"
      },
      "source": [
        "X_train.shape,X_test.shape"
      ],
      "execution_count": null,
      "outputs": [
        {
          "output_type": "execute_result",
          "data": {
            "text/plain": [
              "((22596, 11), (5649, 11))"
            ]
          },
          "metadata": {},
          "execution_count": 21
        }
      ]
    },
    {
      "cell_type": "code",
      "metadata": {
        "id": "9VPYG4-MjkK3",
        "colab": {
          "base_uri": "https://localhost:8080/"
        },
        "outputId": "10541ef9-488b-4efe-d934-e772bfa1edca"
      },
      "source": [
        "X_test"
      ],
      "execution_count": null,
      "outputs": [
        {
          "output_type": "execute_result",
          "data": {
            "text/plain": [
              "array([[  2.     ,   2.     ,  23.     , ..., 100.     ,  29.     ,\n",
              "              nan],\n",
              "       [  1.     ,   5.     ,  24.     , ..., 100.     ,  43.     ,\n",
              "         13.     ],\n",
              "       [  1.     ,   2.     ,  26.     , ...,  90.86067,  29.     ,\n",
              "              nan],\n",
              "       ...,\n",
              "       [  1.     ,   2.     ,  19.     , ...,  95.     ,  46.     ,\n",
              "              nan],\n",
              "       [  1.     ,   2.     ,  22.     , ...,   0.     ,  35.     ,\n",
              "              nan],\n",
              "       [  1.     ,   2.     ,  24.     , ...,  90.     ,  48.     ,\n",
              "         13.     ]])"
            ]
          },
          "metadata": {},
          "execution_count": 12
        }
      ]
    },
    {
      "cell_type": "code",
      "metadata": {
        "id": "OersZ1Rset3B"
      },
      "source": [
        "from sklearn.preprocessing import StandardScaler\n",
        "sc = StandardScaler()\n",
        "X_train = sc.fit_transform(X_train)\n",
        "X_test = sc.transform(X_test)"
      ],
      "execution_count": null,
      "outputs": []
    },
    {
      "cell_type": "markdown",
      "metadata": {
        "id": "9QAUjWA-fXic"
      },
      "source": [
        "## **Logistic Regression**"
      ]
    },
    {
      "cell_type": "code",
      "metadata": {
        "id": "U4eRQNFefdCB"
      },
      "source": [
        "from sklearn.linear_model import LogisticRegression\n",
        "\n",
        "modelo_log = LogisticRegression(random_state = 0)\n",
        "modelo_log.fit(X_train,y_train)\n",
        "y_pred_log = modelo_log.predict(X_test)"
      ],
      "execution_count": null,
      "outputs": []
    },
    {
      "cell_type": "markdown",
      "metadata": {
        "id": "l0P6OcwkfzI5"
      },
      "source": [
        "## **SVM**"
      ]
    },
    {
      "cell_type": "code",
      "metadata": {
        "id": "wpV4Iolrfybn"
      },
      "source": [
        "from sklearn.svm import SVC\n",
        "modelo_svm = SVC(kernel='linear', random_state = 0)\n",
        "modelo_svm.fit(X_train,y_train)\n",
        "y_pred_svm = modelo_svm.predict(X_test)"
      ],
      "execution_count": null,
      "outputs": []
    },
    {
      "cell_type": "markdown",
      "metadata": {
        "id": "ByIplkCPgzpG"
      },
      "source": [
        "## **Random Forest Classifier**"
      ]
    },
    {
      "cell_type": "code",
      "metadata": {
        "id": "gH4MyLgRg-_N"
      },
      "source": [
        "from sklearn.ensemble import RandomForestClassifier\n",
        "modelo_rf = RandomForestClassifier(n_estimators = 10, random_state = 0)\n",
        "modelo_rf.fit(X_train,y_train)\n",
        "y_pred_rf = modelo_rf.predict(X_test)"
      ],
      "execution_count": null,
      "outputs": []
    },
    {
      "cell_type": "markdown",
      "metadata": {
        "id": "laHzt47MhR6w"
      },
      "source": [
        "## **KNN**"
      ]
    },
    {
      "cell_type": "code",
      "metadata": {
        "id": "DF-MQXGwhWEw"
      },
      "source": [
        "from sklearn.neighbors import KNeighborsClassifier\n",
        "modelo_knn = KNeighborsClassifier(n_neighbors = 3)\n",
        "modelo_knn.fit(X_train,y_train)\n",
        "y_pred_knn = modelo_knn.predict(X_test)"
      ],
      "execution_count": null,
      "outputs": []
    },
    {
      "cell_type": "markdown",
      "metadata": {
        "id": "Qv24sxs6iSQB"
      },
      "source": [
        "## **Avaliação dos modelos**"
      ]
    },
    {
      "cell_type": "markdown",
      "metadata": {
        "id": "2J7AGTsllwg6"
      },
      "source": [
        "### **Matriz de Confusão**"
      ]
    },
    {
      "cell_type": "markdown",
      "metadata": {
        "id": "TPLf6KTSIN7d"
      },
      "source": [
        "![matrizConfusao.png](data:image/png;base64,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)"
      ]
    },
    {
      "cell_type": "code",
      "metadata": {
        "id": "IK3h5OF5iWTI"
      },
      "source": [
        "from sklearn.metrics import confusion_matrix\n",
        "\n",
        "cm_log = confusion_matrix(y_test,y_pred_log)\n",
        "cm_svm = confusion_matrix(y_test,y_pred_svm)\n",
        "cm_rf = confusion_matrix(y_test,y_pred_rf)\n",
        "cm_knn = confusion_matrix(y_test,y_pred_knn)"
      ],
      "execution_count": null,
      "outputs": []
    },
    {
      "cell_type": "code",
      "source": [
        "cm_log"
      ],
      "metadata": {
        "colab": {
          "base_uri": "https://localhost:8080/"
        },
        "id": "Luds_XeF4yk6",
        "outputId": "a3ca3bf5-00a7-4dfe-f43b-9eb98b9377ec"
      },
      "execution_count": null,
      "outputs": [
        {
          "output_type": "execute_result",
          "data": {
            "text/plain": [
              "array([[4113,    0],\n",
              "       [  15, 1521]])"
            ]
          },
          "metadata": {},
          "execution_count": 28
        }
      ]
    },
    {
      "cell_type": "code",
      "metadata": {
        "id": "q5gjw3XQi4ep"
      },
      "source": [
        "acc_log = (cm_log[0,0]+cm_log[1,1])/cm_log.sum()\n",
        "acc_svm = (cm_svm[0,0]+cm_svm[1,1])/cm_svm.sum()\n",
        "acc_rf = (cm_rf[0,0]+cm_rf[1,1])/cm_rf.sum()\n",
        "acc_knn = (cm_knn[0,0]+cm_knn[1,1])/cm_knn.sum()"
      ],
      "execution_count": null,
      "outputs": []
    },
    {
      "cell_type": "code",
      "source": [
        "acc_log,acc_svm,acc_rf,acc_knn"
      ],
      "metadata": {
        "colab": {
          "base_uri": "https://localhost:8080/"
        },
        "id": "oXVJCc26459G",
        "outputId": "c06a1a22-d762-48e8-a756-2098b2cd2e71"
      },
      "execution_count": null,
      "outputs": [
        {
          "output_type": "execute_result",
          "data": {
            "text/plain": [
              "(0.997344662772172, 0.9980527526995928, 1.0, 0.9865462913790052)"
            ]
          },
          "metadata": {},
          "execution_count": 30
        }
      ]
    },
    {
      "cell_type": "code",
      "metadata": {
        "colab": {
          "base_uri": "https://localhost:8080/"
        },
        "id": "rez2Zv7omaDr",
        "outputId": "86c68ac0-75e0-4dfa-ade0-782135ff1ea4"
      },
      "source": [
        "cm_log"
      ],
      "execution_count": null,
      "outputs": [
        {
          "output_type": "execute_result",
          "data": {
            "text/plain": [
              "array([[4113,    0],\n",
              "       [  15, 1521]])"
            ]
          },
          "metadata": {},
          "execution_count": 31
        }
      ]
    },
    {
      "cell_type": "code",
      "metadata": {
        "colab": {
          "base_uri": "https://localhost:8080/"
        },
        "id": "UrBI5ED7mibO",
        "outputId": "982a078b-46f3-4986-e819-a56a8506dc61"
      },
      "source": [
        "cm_svm"
      ],
      "execution_count": null,
      "outputs": [
        {
          "output_type": "execute_result",
          "data": {
            "text/plain": [
              "array([[4113,    0],\n",
              "       [  11, 1525]])"
            ]
          },
          "metadata": {},
          "execution_count": 32
        }
      ]
    },
    {
      "cell_type": "code",
      "metadata": {
        "colab": {
          "base_uri": "https://localhost:8080/"
        },
        "id": "cOzrjq9mmpoz",
        "outputId": "685a2c09-6f14-490f-9845-80f58f967981"
      },
      "source": [
        "cm_rf"
      ],
      "execution_count": null,
      "outputs": [
        {
          "output_type": "execute_result",
          "data": {
            "text/plain": [
              "array([[4113,    0],\n",
              "       [   0, 1536]])"
            ]
          },
          "metadata": {},
          "execution_count": 33
        }
      ]
    },
    {
      "cell_type": "code",
      "metadata": {
        "colab": {
          "base_uri": "https://localhost:8080/"
        },
        "id": "sjd2RmcumwMp",
        "outputId": "80c34711-a114-4550-d740-3badc2694ee2"
      },
      "source": [
        "cm_knn"
      ],
      "execution_count": null,
      "outputs": [
        {
          "output_type": "execute_result",
          "data": {
            "text/plain": [
              "array([[4110,    3],\n",
              "       [  73, 1463]])"
            ]
          },
          "metadata": {},
          "execution_count": 34
        }
      ]
    },
    {
      "cell_type": "code",
      "metadata": {
        "colab": {
          "base_uri": "https://localhost:8080/"
        },
        "id": "Zg9cSXpqkTPc",
        "outputId": "e8ef8486-68ed-4f31-d85b-ade1a6fb14f9"
      },
      "source": [
        "print('Logistic Regression: ', acc_log)\n",
        "print('SVM: ', acc_svm)\n",
        "print('Random Fortest: ', acc_rf)\n",
        "print('Knn: ', acc_knn)\n"
      ],
      "execution_count": null,
      "outputs": [
        {
          "output_type": "stream",
          "name": "stdout",
          "text": [
            "Logistic Regression:  0.997344662772172\n",
            "SVM:  0.9980527526995928\n",
            "Random Fortest:  1.0\n",
            "Knn:  0.9865462913790052\n"
          ]
        }
      ]
    }
  ]
}